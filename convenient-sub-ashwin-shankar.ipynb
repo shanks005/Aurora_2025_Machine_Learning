{
 "cells": [
  {
   "cell_type": "code",
   "execution_count": 1,
   "id": "4459d11d",
   "metadata": {
    "_cell_guid": "b1076dfc-b9ad-4769-8c92-a6c4dae69d19",
    "_uuid": "8f2839f25d086af736a60e9eeb907d3b93b6e0e5",
    "execution": {
     "iopub.execute_input": "2025-01-26T11:43:16.314646Z",
     "iopub.status.busy": "2025-01-26T11:43:16.314277Z",
     "iopub.status.idle": "2025-01-26T11:43:26.042762Z",
     "shell.execute_reply": "2025-01-26T11:43:26.041794Z"
    },
    "papermill": {
     "duration": 9.736116,
     "end_time": "2025-01-26T11:43:26.044610",
     "exception": false,
     "start_time": "2025-01-26T11:43:16.308494",
     "status": "completed"
    },
    "tags": []
   },
   "outputs": [],
   "source": [
    "# This Python 3 environment comes with many helpful analytics libraries installed\n",
    "# It is defined by the kaggle/python Docker image: https://github.com/kaggle/docker-python\n",
    "# For example, here's several helpful packages to load\n",
    "\n",
    "import numpy as np # linear algebra\n",
    "import pandas as pd # data processing, CSV file I/O (e.g. pd.read_csv)\n",
    "import torch\n",
    "from torch.utils.data import DataLoader,ConcatDataset,random_split\n",
    "from torchvision import datasets,transforms\n",
    "\n",
    "# Input data files are available in the read-only \"../input/\" directory\n",
    "# For example, running this (by clicking run or pressing Shift+Enter) will list all files under the input directory\n",
    "\n",
    "import os\n",
    "for dirname, _, filenames in os.walk('/kaggle/input'):\n",
    "    for filename in filenames:\n",
    "        print(os.path.join(dirname, filename))\n",
    "\n",
    "# You can write up to 20GB to the current directory (/kaggle/working/) that gets preserved as output when you create a version using \"Save & Run All\" \n",
    "# You can also write temporary files to /kaggle/temp/, but they won't be saved outside of the current session"
   ]
  },
  {
   "cell_type": "markdown",
   "id": "1f42bfb6",
   "metadata": {
    "papermill": {
     "duration": 0.00363,
     "end_time": "2025-01-26T11:43:26.052587",
     "exception": false,
     "start_time": "2025-01-26T11:43:26.048957",
     "status": "completed"
    },
    "tags": []
   },
   "source": [
    "Convert the Images to Grayscale making it black and white and Normalize the pixel values"
   ]
  },
  {
   "cell_type": "code",
   "execution_count": 2,
   "id": "d7153b74",
   "metadata": {
    "execution": {
     "iopub.execute_input": "2025-01-26T11:43:26.061390Z",
     "iopub.status.busy": "2025-01-26T11:43:26.060881Z",
     "iopub.status.idle": "2025-01-26T11:43:26.065636Z",
     "shell.execute_reply": "2025-01-26T11:43:26.064777Z"
    },
    "papermill": {
     "duration": 0.010721,
     "end_time": "2025-01-26T11:43:26.067143",
     "exception": false,
     "start_time": "2025-01-26T11:43:26.056422",
     "status": "completed"
    },
    "tags": []
   },
   "outputs": [],
   "source": [
    "transform=transforms.Compose([transforms.Grayscale(),transforms.ToTensor(),transforms.Normalize((0.5,),(0.5,))])"
   ]
  },
  {
   "cell_type": "markdown",
   "id": "9680f40d",
   "metadata": {
    "papermill": {
     "duration": 0.00342,
     "end_time": "2025-01-26T11:43:26.074550",
     "exception": false,
     "start_time": "2025-01-26T11:43:26.071130",
     "status": "completed"
    },
    "tags": []
   },
   "source": [
    "Load the EMNIST dataset containing the list of letters"
   ]
  },
  {
   "cell_type": "code",
   "execution_count": 3,
   "id": "453a84c0",
   "metadata": {
    "execution": {
     "iopub.execute_input": "2025-01-26T11:43:26.083032Z",
     "iopub.status.busy": "2025-01-26T11:43:26.082722Z",
     "iopub.status.idle": "2025-01-26T11:44:31.751983Z",
     "shell.execute_reply": "2025-01-26T11:44:31.750775Z"
    },
    "papermill": {
     "duration": 65.675861,
     "end_time": "2025-01-26T11:44:31.754089",
     "exception": false,
     "start_time": "2025-01-26T11:43:26.078228",
     "status": "completed"
    },
    "tags": []
   },
   "outputs": [
    {
     "name": "stdout",
     "output_type": "stream",
     "text": [
      "Downloading https://biometrics.nist.gov/cs_links/EMNIST/gzip.zip to ./data/EMNIST/raw/gzip.zip\n"
     ]
    },
    {
     "name": "stderr",
     "output_type": "stream",
     "text": [
      "100%|██████████| 562M/562M [00:17<00:00, 32.2MB/s]\n"
     ]
    },
    {
     "name": "stdout",
     "output_type": "stream",
     "text": [
      "Extracting ./data/EMNIST/raw/gzip.zip to ./data/EMNIST/raw\n",
      "Downloading https://biometrics.nist.gov/cs_links/EMNIST/gzip.zip to /data/EMNIST/raw/gzip.zip\n"
     ]
    },
    {
     "name": "stderr",
     "output_type": "stream",
     "text": [
      "100%|██████████| 562M/562M [00:09<00:00, 59.1MB/s]\n"
     ]
    },
    {
     "name": "stdout",
     "output_type": "stream",
     "text": [
      "Extracting /data/EMNIST/raw/gzip.zip to /data/EMNIST/raw\n"
     ]
    }
   ],
   "source": [
    "train_dataset=datasets.EMNIST(root='./data',split='letters',train=True,download=True,transform=transform)\n",
    "test_dataset=datasets.EMNIST(root='/data',split='letters',train=False,download=True,transform=transform)\n"
   ]
  },
  {
   "cell_type": "code",
   "execution_count": 4,
   "id": "72320770",
   "metadata": {
    "execution": {
     "iopub.execute_input": "2025-01-26T11:44:31.791873Z",
     "iopub.status.busy": "2025-01-26T11:44:31.791485Z",
     "iopub.status.idle": "2025-01-26T11:44:31.796282Z",
     "shell.execute_reply": "2025-01-26T11:44:31.795061Z"
    },
    "papermill": {
     "duration": 0.025611,
     "end_time": "2025-01-26T11:44:31.798029",
     "exception": false,
     "start_time": "2025-01-26T11:44:31.772418",
     "status": "completed"
    },
    "tags": []
   },
   "outputs": [],
   "source": [
    "full_data=ConcatDataset([train_dataset,test_dataset])\n",
    "total_len=len(full_data)"
   ]
  },
  {
   "cell_type": "markdown",
   "id": "acf8b1a5",
   "metadata": {
    "papermill": {
     "duration": 0.01732,
     "end_time": "2025-01-26T11:44:31.832333",
     "exception": false,
     "start_time": "2025-01-26T11:44:31.815013",
     "status": "completed"
    },
    "tags": []
   },
   "source": [
    "Extracting Subset"
   ]
  },
  {
   "cell_type": "code",
   "execution_count": 5,
   "id": "8e19e473",
   "metadata": {
    "execution": {
     "iopub.execute_input": "2025-01-26T11:44:31.875484Z",
     "iopub.status.busy": "2025-01-26T11:44:31.875081Z",
     "iopub.status.idle": "2025-01-26T11:44:31.958996Z",
     "shell.execute_reply": "2025-01-26T11:44:31.957880Z"
    },
    "papermill": {
     "duration": 0.103334,
     "end_time": "2025-01-26T11:44:31.960669",
     "exception": false,
     "start_time": "2025-01-26T11:44:31.857335",
     "status": "completed"
    },
    "tags": []
   },
   "outputs": [
    {
     "name": "stdout",
     "output_type": "stream",
     "text": [
      "subset size(30% of total) is :43680\n"
     ]
    }
   ],
   "source": [
    "portion_size=int(0.3*total_len)\n",
    "unused_size=total_len-portion_size\n",
    "\n",
    "subset_30_percent,_=random_split(full_data,[portion_size,unused_size],generator=torch.Generator().manual_seed(42))\n",
    "\n",
    "print(f\"subset size(30% of total) is :{len(subset_30_percent)}\")"
   ]
  },
  {
   "cell_type": "code",
   "execution_count": 6,
   "id": "28272b44",
   "metadata": {
    "execution": {
     "iopub.execute_input": "2025-01-26T11:44:31.996016Z",
     "iopub.status.busy": "2025-01-26T11:44:31.995606Z",
     "iopub.status.idle": "2025-01-26T11:44:32.005904Z",
     "shell.execute_reply": "2025-01-26T11:44:32.004828Z"
    },
    "papermill": {
     "duration": 0.030303,
     "end_time": "2025-01-26T11:44:32.007675",
     "exception": false,
     "start_time": "2025-01-26T11:44:31.977372",
     "status": "completed"
    },
    "tags": []
   },
   "outputs": [
    {
     "name": "stdout",
     "output_type": "stream",
     "text": [
      "39312\n",
      "4368\n"
     ]
    }
   ],
   "source": [
    "train_size=int(0.9*len(subset_30_percent))\n",
    "unused_size=len(subset_30_percent)-train_size\n",
    "new_train_subset,new_test_subset=random_split(subset_30_percent,[train_size,unused_size],generator=torch.Generator().manual_seed(42))\n",
    "\n",
    "print(len(new_train_subset))\n",
    "print(len(new_test_subset))\n"
   ]
  },
  {
   "cell_type": "code",
   "execution_count": 7,
   "id": "7195ac1e",
   "metadata": {
    "execution": {
     "iopub.execute_input": "2025-01-26T11:44:32.043592Z",
     "iopub.status.busy": "2025-01-26T11:44:32.043229Z",
     "iopub.status.idle": "2025-01-26T11:44:32.047946Z",
     "shell.execute_reply": "2025-01-26T11:44:32.046890Z"
    },
    "papermill": {
     "duration": 0.023745,
     "end_time": "2025-01-26T11:44:32.049708",
     "exception": false,
     "start_time": "2025-01-26T11:44:32.025963",
     "status": "completed"
    },
    "tags": []
   },
   "outputs": [],
   "source": [
    "# Create DataLoaders from these new subsets --> Basically loading stuff up for our use\n",
    "train_loader = DataLoader(new_train_subset, batch_size=64, shuffle=True)\n",
    "test_loader = DataLoader(new_test_subset, batch_size=64, shuffle=False)"
   ]
  },
  {
   "cell_type": "code",
   "execution_count": 8,
   "id": "b99b09d7",
   "metadata": {
    "execution": {
     "iopub.execute_input": "2025-01-26T11:44:32.084799Z",
     "iopub.status.busy": "2025-01-26T11:44:32.084452Z",
     "iopub.status.idle": "2025-01-26T11:44:32.088555Z",
     "shell.execute_reply": "2025-01-26T11:44:32.087643Z"
    },
    "papermill": {
     "duration": 0.023159,
     "end_time": "2025-01-26T11:44:32.090160",
     "exception": false,
     "start_time": "2025-01-26T11:44:32.067001",
     "status": "completed"
    },
    "tags": []
   },
   "outputs": [],
   "source": [
    "import torch.nn as nn\n",
    "import torch.nn.functional as F"
   ]
  },
  {
   "cell_type": "code",
   "execution_count": 9,
   "id": "4486ba8a",
   "metadata": {
    "execution": {
     "iopub.execute_input": "2025-01-26T11:44:32.125566Z",
     "iopub.status.busy": "2025-01-26T11:44:32.125175Z",
     "iopub.status.idle": "2025-01-26T11:44:32.135155Z",
     "shell.execute_reply": "2025-01-26T11:44:32.134196Z"
    },
    "papermill": {
     "duration": 0.029766,
     "end_time": "2025-01-26T11:44:32.137216",
     "exception": false,
     "start_time": "2025-01-26T11:44:32.107450",
     "status": "completed"
    },
    "tags": []
   },
   "outputs": [],
   "source": [
    "class SimpleCNN(nn.Module):\n",
    "    def __init__(self):\n",
    "        super(SimpleCNN,self).__init__()\n",
    "        self.conv1=nn.Conv2d(1,16,kernel_size=3,stride=1,padding=1) #(10,28,28)\n",
    "        self.conv2=nn.Conv2d(16,32,kernel_size=3,stride=1,padding=1)\n",
    "        self.conv3=nn.Conv2d(32,64,kernel_size=3,stride=1,padding=1)\n",
    "        self.fc1=nn.Linear(64*3*3,128) # the 64*3*3 layer is mapped to 128 nodes in the full connected layer\n",
    "        self.fc2=nn.Linear(128,64)\n",
    "        self.fc3=nn.Linear(64,27)\n",
    "    def forward(self,x):\n",
    "        x=F.relu(F.max_pool2d(self.conv1(x),2))\n",
    "        x=F.relu(F.max_pool2d(self.conv2(x),2))\n",
    "        x=F.relu(F.max_pool2d(self.conv3(x),2))\n",
    "        #flatten\n",
    "        x=x.view(x.size(0),-1)\n",
    "        \n",
    "        x=F.relu(self.fc1(x))\n",
    "        x=F.relu(self.fc2(x))\n",
    "        x=self.fc3(x)\n",
    "        return x"
   ]
  },
  {
   "cell_type": "code",
   "execution_count": 10,
   "id": "2837190c",
   "metadata": {
    "execution": {
     "iopub.execute_input": "2025-01-26T11:44:32.172161Z",
     "iopub.status.busy": "2025-01-26T11:44:32.171829Z",
     "iopub.status.idle": "2025-01-26T11:44:32.189502Z",
     "shell.execute_reply": "2025-01-26T11:44:32.187942Z"
    },
    "papermill": {
     "duration": 0.03751,
     "end_time": "2025-01-26T11:44:32.191799",
     "exception": false,
     "start_time": "2025-01-26T11:44:32.154289",
     "status": "completed"
    },
    "tags": []
   },
   "outputs": [
    {
     "name": "stdout",
     "output_type": "stream",
     "text": [
      "total parameters is:107163\n"
     ]
    }
   ],
   "source": [
    "model=SimpleCNN()\n",
    "total_params=sum(p.numel() for p in model.parameters() if p.requires_grad)\n",
    "print(f\"total parameters is:{total_params}\")\n"
   ]
  },
  {
   "cell_type": "code",
   "execution_count": 11,
   "id": "a3d5e98e",
   "metadata": {
    "execution": {
     "iopub.execute_input": "2025-01-26T11:44:32.228577Z",
     "iopub.status.busy": "2025-01-26T11:44:32.228145Z",
     "iopub.status.idle": "2025-01-26T11:44:32.233223Z",
     "shell.execute_reply": "2025-01-26T11:44:32.232261Z"
    },
    "papermill": {
     "duration": 0.026269,
     "end_time": "2025-01-26T11:44:32.234896",
     "exception": false,
     "start_time": "2025-01-26T11:44:32.208627",
     "status": "completed"
    },
    "tags": []
   },
   "outputs": [],
   "source": [
    "import torch.optim as optim\n",
    "\n",
    "criterion=nn.CrossEntropyLoss()\n",
    "optimizer=optim.Adam(model.parameters(),lr=0.001)\n"
   ]
  },
  {
   "cell_type": "code",
   "execution_count": 12,
   "id": "0f9706ab",
   "metadata": {
    "execution": {
     "iopub.execute_input": "2025-01-26T11:44:32.275629Z",
     "iopub.status.busy": "2025-01-26T11:44:32.275234Z",
     "iopub.status.idle": "2025-01-26T11:44:32.356936Z",
     "shell.execute_reply": "2025-01-26T11:44:32.355828Z"
    },
    "papermill": {
     "duration": 0.106263,
     "end_time": "2025-01-26T11:44:32.358648",
     "exception": false,
     "start_time": "2025-01-26T11:44:32.252385",
     "status": "completed"
    },
    "tags": []
   },
   "outputs": [
    {
     "data": {
      "text/plain": [
       "SimpleCNN(\n",
       "  (conv1): Conv2d(1, 16, kernel_size=(3, 3), stride=(1, 1), padding=(1, 1))\n",
       "  (conv2): Conv2d(16, 32, kernel_size=(3, 3), stride=(1, 1), padding=(1, 1))\n",
       "  (conv3): Conv2d(32, 64, kernel_size=(3, 3), stride=(1, 1), padding=(1, 1))\n",
       "  (fc1): Linear(in_features=576, out_features=128, bias=True)\n",
       "  (fc2): Linear(in_features=128, out_features=64, bias=True)\n",
       "  (fc3): Linear(in_features=64, out_features=27, bias=True)\n",
       ")"
      ]
     },
     "execution_count": 12,
     "metadata": {},
     "output_type": "execute_result"
    }
   ],
   "source": [
    "device=torch.device(\"cuda\" if torch.cuda.is_available() else \"cpu\")\n",
    "model.to(device)\n",
    "\n"
   ]
  },
  {
   "cell_type": "code",
   "execution_count": 13,
   "id": "cdb5d824",
   "metadata": {
    "execution": {
     "iopub.execute_input": "2025-01-26T11:44:32.394587Z",
     "iopub.status.busy": "2025-01-26T11:44:32.394184Z",
     "iopub.status.idle": "2025-01-26T11:52:07.420047Z",
     "shell.execute_reply": "2025-01-26T11:52:07.417185Z"
    },
    "papermill": {
     "duration": 455.063,
     "end_time": "2025-01-26T11:52:07.438593",
     "exception": false,
     "start_time": "2025-01-26T11:44:32.375593",
     "status": "completed"
    },
    "tags": []
   },
   "outputs": [
    {
     "name": "stdout",
     "output_type": "stream",
     "text": [
      "Epoch [1/18], Loss: 1.0039\n",
      "Epoch [2/18], Loss: 0.3739\n",
      "Epoch [3/18], Loss: 0.2935\n",
      "Epoch [4/18], Loss: 0.2500\n",
      "Epoch [5/18], Loss: 0.2230\n",
      "Epoch [6/18], Loss: 0.2023\n",
      "Epoch [7/18], Loss: 0.1858\n",
      "Epoch [8/18], Loss: 0.1683\n",
      "Epoch [9/18], Loss: 0.1581\n",
      "Epoch [10/18], Loss: 0.1466\n",
      "Epoch [11/18], Loss: 0.1362\n",
      "Epoch [12/18], Loss: 0.1306\n",
      "Epoch [13/18], Loss: 0.1197\n",
      "Epoch [14/18], Loss: 0.1141\n",
      "Epoch [15/18], Loss: 0.1087\n",
      "Epoch [16/18], Loss: 0.1007\n",
      "Epoch [17/18], Loss: 0.0970\n",
      "Epoch [18/18], Loss: 0.0906\n"
     ]
    }
   ],
   "source": [
    "num_epochs=18\n",
    "for epoch in range(num_epochs):\n",
    "    model.train()\n",
    "    running_losses=0.0\n",
    "    for images,labels in train_loader:\n",
    "        images,labels=images.to(device),labels.to(device)\n",
    "        optimizer.zero_grad()\n",
    "        outputs=model(images)\n",
    "        loss=criterion(outputs,labels)\n",
    "        loss.backward()\n",
    "        optimizer.step()\n",
    "        running_losses+=loss.item()\n",
    "        \n",
    "    print(f\"Epoch [{epoch+1}/{num_epochs}], Loss: {running_losses/len(train_loader):.4f}\")"
   ]
  },
  {
   "cell_type": "code",
   "execution_count": 14,
   "id": "b4d2c6bf",
   "metadata": {
    "execution": {
     "iopub.execute_input": "2025-01-26T11:52:07.477512Z",
     "iopub.status.busy": "2025-01-26T11:52:07.476945Z",
     "iopub.status.idle": "2025-01-26T11:52:09.413130Z",
     "shell.execute_reply": "2025-01-26T11:52:09.411866Z"
    },
    "papermill": {
     "duration": 1.958312,
     "end_time": "2025-01-26T11:52:09.414897",
     "exception": false,
     "start_time": "2025-01-26T11:52:07.456585",
     "status": "completed"
    },
    "tags": []
   },
   "outputs": [
    {
     "name": "stdout",
     "output_type": "stream",
     "text": [
      "Test Accuracy: 91.83%\n"
     ]
    }
   ],
   "source": [
    "model.eval()\n",
    "correct=0\n",
    "total=0\n",
    "\n",
    "for images,labels in test_loader:\n",
    "    images,labels=images.to(device),labels.to(device)\n",
    "    outputs=model(images)\n",
    "    _,predicted=torch.max(outputs,1)\n",
    "    total+=labels.size(0)\n",
    "    correct += (predicted == labels).sum().item()\n",
    "\n",
    "print(f\"Test Accuracy: {100 * correct / total:.2f}%\")"
   ]
  },
  {
   "cell_type": "code",
   "execution_count": 15,
   "id": "b5fb0760",
   "metadata": {
    "execution": {
     "iopub.execute_input": "2025-01-26T11:52:09.451182Z",
     "iopub.status.busy": "2025-01-26T11:52:09.450781Z",
     "iopub.status.idle": "2025-01-26T11:52:09.461315Z",
     "shell.execute_reply": "2025-01-26T11:52:09.460153Z"
    },
    "papermill": {
     "duration": 0.030556,
     "end_time": "2025-01-26T11:52:09.463149",
     "exception": false,
     "start_time": "2025-01-26T11:52:09.432593",
     "status": "completed"
    },
    "tags": []
   },
   "outputs": [],
   "source": [
    "torch.save(model.state_dict(), \"pytorch_ocr.pth\")"
   ]
  }
 ],
 "metadata": {
  "kaggle": {
   "accelerator": "none",
   "dataSources": [],
   "dockerImageVersionId": 30839,
   "isGpuEnabled": false,
   "isInternetEnabled": true,
   "language": "python",
   "sourceType": "notebook"
  },
  "kernelspec": {
   "display_name": "Python 3",
   "language": "python",
   "name": "python3"
  },
  "language_info": {
   "codemirror_mode": {
    "name": "ipython",
    "version": 3
   },
   "file_extension": ".py",
   "mimetype": "text/x-python",
   "name": "python",
   "nbconvert_exporter": "python",
   "pygments_lexer": "ipython3",
   "version": "3.10.12"
  },
  "papermill": {
   "default_parameters": {},
   "duration": 538.877732,
   "end_time": "2025-01-26T11:52:12.506961",
   "environment_variables": {},
   "exception": null,
   "input_path": "__notebook__.ipynb",
   "output_path": "__notebook__.ipynb",
   "parameters": {},
   "start_time": "2025-01-26T11:43:13.629229",
   "version": "2.6.0"
  }
 },
 "nbformat": 4,
 "nbformat_minor": 5
}
